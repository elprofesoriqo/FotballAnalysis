{
 "cells": [
  {
   "cell_type": "code",
   "execution_count": null,
   "id": "initial_id",
   "metadata": {
    "collapsed": true
   },
   "outputs": [],
   "source": [
    "!pip install ultralytics\n",
    "!pip install roboflow"
   ]
  },
  {
   "metadata": {},
   "cell_type": "markdown",
   "source": "",
   "id": "77a79c549546bedd"
  },
  {
   "metadata": {},
   "cell_type": "markdown",
   "source": "",
   "id": "fb61e5ce3318dc3f"
  },
  {
   "metadata": {},
   "cell_type": "markdown",
   "source": "",
   "id": "48d9e55986c87ce0"
  },
  {
   "metadata": {
    "ExecuteTime": {
     "end_time": "2024-10-23T13:45:30.033776Z",
     "start_time": "2024-10-23T13:45:30.030749Z"
    }
   },
   "cell_type": "code",
   "source": "# Get Dataset",
   "id": "e3af070b0a85d305",
   "outputs": [],
   "execution_count": 2
  },
  {
   "metadata": {},
   "cell_type": "markdown",
   "source": "",
   "id": "c2e28387f5c0d24a"
  },
  {
   "metadata": {},
   "cell_type": "markdown",
   "source": "",
   "id": "2f1dc1fb67041452"
  }
 ],
 "metadata": {
  "kernelspec": {
   "display_name": "Python 3",
   "language": "python",
   "name": "python3"
  },
  "language_info": {
   "codemirror_mode": {
    "name": "ipython",
    "version": 2
   },
   "file_extension": ".py",
   "mimetype": "text/x-python",
   "name": "python",
   "nbconvert_exporter": "python",
   "pygments_lexer": "ipython2",
   "version": "2.7.6"
  }
 },
 "nbformat": 4,
 "nbformat_minor": 5
}
